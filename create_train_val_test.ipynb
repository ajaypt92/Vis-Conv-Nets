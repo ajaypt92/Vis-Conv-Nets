{
 "cells": [
  {
   "cell_type": "code",
   "execution_count": 25,
   "metadata": {
    "collapsed": true
   },
   "outputs": [],
   "source": [
    "from os import mkdir\n",
    "import glob\n",
    "import random\n",
    "import shutil"
   ]
  },
  {
   "cell_type": "code",
   "execution_count": 38,
   "metadata": {
    "collapsed": true
   },
   "outputs": [],
   "source": [
    "VAL_SIZE = 0.15\n",
    "TEST_SIZE = 0.2"
   ]
  },
  {
   "cell_type": "code",
   "execution_count": 22,
   "metadata": {
    "collapsed": true
   },
   "outputs": [],
   "source": [
    "train_images = []\n",
    "val_images = []\n",
    "test_images = []"
   ]
  },
  {
   "cell_type": "code",
   "execution_count": 26,
   "metadata": {
    "collapsed": true
   },
   "outputs": [],
   "source": [
    "classes = ['daisy', 'dandelion', 'rose', 'sunflower', 'tulip']"
   ]
  },
  {
   "cell_type": "code",
   "execution_count": 29,
   "metadata": {
    "collapsed": true
   },
   "outputs": [],
   "source": [
    "orig_path = \"C:\\\\Users\\\\apaliwal\\\\Documents\\\\flowers-recognition\\\\flowers\"\n",
    "train_path = orig_path + \"\\\\train\"\n",
    "val_path = orig_path + \"\\\\validation\"\n",
    "test_path = orig_path + \"\\\\test\""
   ]
  },
  {
   "cell_type": "code",
   "execution_count": 45,
   "metadata": {},
   "outputs": [],
   "source": [
    "f = []\n",
    "dirs = []\n",
    "\n",
    "for c in classes:\n",
    "    \n",
    "    img_list = glob.glob(orig_path + \"\\\\\" + c + \"\\\\*.jpg\")\n",
    "    \n",
    "    val_images = random.sample(img_list, int(VAL_SIZE * len(img_list)))\n",
    "    img_list = [f for f in img_list if f not in val_images]\n",
    "    test_images = random.sample(img_list, int(TEST_SIZE * len(img_list)))\n",
    "    train_images = [f for f in img_list if f not in test_images]\n",
    "    \n",
    "    mkdir(train_path + \"\\\\\" + str(c))\n",
    "    mkdir(val_path + \"\\\\\" + str(c))\n",
    "    mkdir(test_path + \"\\\\\" + str(c))\n",
    "\n",
    "    for f in train_images:\n",
    "        shutil.copy(f, train_path + \"\\\\\" + str(c))\n",
    "\n",
    "    for f in val_images:\n",
    "        shutil.copy(f, val_path + \"\\\\\" + str(c))\n",
    "\n",
    "    for f in test_images:\n",
    "        shutil.copy(f, test_path + \"\\\\\" + str(c))"
   ]
  }
 ],
 "metadata": {
  "kernelspec": {
   "display_name": "Python 3",
   "language": "python",
   "name": "python3"
  },
  "language_info": {
   "codemirror_mode": {
    "name": "ipython",
    "version": 3
   },
   "file_extension": ".py",
   "mimetype": "text/x-python",
   "name": "python",
   "nbconvert_exporter": "python",
   "pygments_lexer": "ipython3",
   "version": "3.6.1"
  }
 },
 "nbformat": 4,
 "nbformat_minor": 2
}
